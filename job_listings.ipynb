{
 "cells": [
  {
   "cell_type": "code",
   "execution_count": 12,
   "metadata": {},
   "outputs": [],
   "source": [
    "import requests\n",
    "from bs4 import BeautifulSoup\n",
    "import pandas as pd"
   ]
  },
  {
   "cell_type": "code",
   "execution_count": 25,
   "metadata": {},
   "outputs": [],
   "source": [
    "def fetch_job_listings(keyword, page_limit=1):\n",
    "    base_url = 'https://www.jobindex.dk/jobsoegning.json'\n",
    "    job_listings = []\n",
    "\n",
    "    for page in range(1, page_limit+1):\n",
    "        params = {\n",
    "            'q' : keyword,\n",
    "            'page' : page\n",
    "        }\n",
    "        response = requests.get(base_url, params=params)\n",
    "        if response.status_code == 200:\n",
    "            data = response.json()\n",
    "            html_content = data.get('result_list_box_html', '')\n",
    "            soup = BeautifulSoup(html_content, 'html.parser')\n",
    "\n",
    "            # Find all job ads\n",
    "            job_ads = soup.find_all('div', class_='jobsearch_result')\n",
    "            for job_ad in job_ads:\n",
    "                title = job_ad.find('div', class_ = 'jobad-element-menu-share')['data-share-title']\n",
    "                url = job_ad.find('div', class_ = 'jobad-element-menu-share')['data-share-url']\n",
    "                published_tag = job_ad.find('time')\n",
    "                published_date = published_tag['datetime'] if published_tag else 'unknown'\n",
    "                job_listings.append([title, published_date, url])\n",
    "        else:\n",
    "            break\n",
    "    return job_listings"
   ]
  },
  {
   "cell_type": "code",
   "execution_count": 26,
   "metadata": {},
   "outputs": [],
   "source": [
    "# Example usage\n",
    "keyword = 'data'\n",
    "job_listings = fetch_job_listings(keyword, page_limit=10)\n",
    "df = pd.DataFrame(job_listings, columns=['Title', 'Published Date', 'URL'])"
   ]
  },
  {
   "cell_type": "code",
   "execution_count": 27,
   "metadata": {},
   "outputs": [],
   "source": [
    "# saving to csv\n",
    "df.to_csv('job_listings.csv', index=False)"
   ]
  },
  {
   "cell_type": "code",
   "execution_count": 24,
   "metadata": {},
   "outputs": [
    {
     "data": {
      "text/html": [
       "<div>\n",
       "<style scoped>\n",
       "    .dataframe tbody tr th:only-of-type {\n",
       "        vertical-align: middle;\n",
       "    }\n",
       "\n",
       "    .dataframe tbody tr th {\n",
       "        vertical-align: top;\n",
       "    }\n",
       "\n",
       "    .dataframe thead th {\n",
       "        text-align: right;\n",
       "    }\n",
       "</style>\n",
       "<table border=\"1\" class=\"dataframe\">\n",
       "  <thead>\n",
       "    <tr style=\"text-align: right;\">\n",
       "      <th></th>\n",
       "      <th>Title</th>\n",
       "      <th>Published Date</th>\n",
       "      <th>URL</th>\n",
       "    </tr>\n",
       "  </thead>\n",
       "  <tbody>\n",
       "  </tbody>\n",
       "</table>\n",
       "</div>"
      ],
      "text/plain": [
       "Empty DataFrame\n",
       "Columns: [Title, Published Date, URL]\n",
       "Index: []"
      ]
     },
     "execution_count": 24,
     "metadata": {},
     "output_type": "execute_result"
    }
   ],
   "source": [
    "df"
   ]
  }
 ],
 "metadata": {
  "kernelspec": {
   "display_name": "base",
   "language": "python",
   "name": "python3"
  },
  "language_info": {
   "codemirror_mode": {
    "name": "ipython",
    "version": 3
   },
   "file_extension": ".py",
   "mimetype": "text/x-python",
   "name": "python",
   "nbconvert_exporter": "python",
   "pygments_lexer": "ipython3",
   "version": "3.11.7"
  }
 },
 "nbformat": 4,
 "nbformat_minor": 2
}
